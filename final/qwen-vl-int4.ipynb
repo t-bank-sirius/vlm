{
 "cells": [
  {
   "cell_type": "code",
   "execution_count": 1,
   "id": "35d9f6ef",
   "metadata": {},
   "outputs": [],
   "source": [
    "import torch\n",
    "from transformers import AutoModelForCausalLM, AutoTokenizer\n",
    "from PIL import Image"
   ]
  },
  {
   "cell_type": "code",
   "execution_count": 2,
   "id": "80b0da9e",
   "metadata": {},
   "outputs": [],
   "source": [
    "def load_model():\n",
    "    device = \"cuda\" if torch.cuda.is_available() else \"cpu\"\n",
    "    tokenizer = AutoTokenizer.from_pretrained(\"Qwen/Qwen-VL-Chat-Int4\", trust_remote_code=True)\n",
    "    model = AutoModelForCausalLM.from_pretrained(\n",
    "        \"Qwen/Qwen-VL-Chat-Int4\",\n",
    "        device_map=device,\n",
    "        trust_remote_code=True\n",
    "    ).eval()\n",
    "    return tokenizer, model"
   ]
  },
  {
   "cell_type": "code",
   "execution_count": 3,
   "id": "cd49a006",
   "metadata": {},
   "outputs": [
    {
     "name": "stderr",
     "output_type": "stream",
     "text": [
      "/workspaces/.local/lib/python3.11/site-packages/auto_gptq/nn_modules/triton_utils/kernels.py:410: FutureWarning: `torch.cuda.amp.custom_fwd(args...)` is deprecated. Please use `torch.amp.custom_fwd(args..., device_type='cuda')` instead.\n",
      "  @custom_fwd\n",
      "/workspaces/.local/lib/python3.11/site-packages/auto_gptq/nn_modules/triton_utils/kernels.py:418: FutureWarning: `torch.cuda.amp.custom_bwd(args...)` is deprecated. Please use `torch.amp.custom_bwd(args..., device_type='cuda')` instead.\n",
      "  @custom_bwd\n",
      "/workspaces/.local/lib/python3.11/site-packages/auto_gptq/nn_modules/triton_utils/kernels.py:461: FutureWarning: `torch.cuda.amp.custom_fwd(args...)` is deprecated. Please use `torch.amp.custom_fwd(args..., device_type='cuda')` instead.\n",
      "  @custom_fwd(cast_inputs=torch.float16)\n",
      "CUDA extension not installed.\n",
      "CUDA extension not installed.\n"
     ]
    },
    {
     "data": {
      "application/vnd.jupyter.widget-view+json": {
       "model_id": "8a011f7b37714ed893a715cad7977484",
       "version_major": 2,
       "version_minor": 0
      },
      "text/plain": [
       "Fetching 5 files:   0%|          | 0/5 [00:00<?, ?it/s]"
      ]
     },
     "metadata": {},
     "output_type": "display_data"
    },
    {
     "data": {
      "application/vnd.jupyter.widget-view+json": {
       "model_id": "468abf786ced47c39b9e4ead3d5e9abc",
       "version_major": 2,
       "version_minor": 0
      },
      "text/plain": [
       "model-00003-of-00005.safetensors:   0%|          | 0.00/2.00G [00:00<?, ?B/s]"
      ]
     },
     "metadata": {},
     "output_type": "display_data"
    },
    {
     "name": "stderr",
     "output_type": "stream",
     "text": [
      "`loss_type=None` was set in the config but it is unrecognised.Using the default loss: `ForCausalLMLoss`.\n"
     ]
    },
    {
     "data": {
      "application/vnd.jupyter.widget-view+json": {
       "model_id": "d96475efe0c844ae9860d57dda97fce8",
       "version_major": 2,
       "version_minor": 0
      },
      "text/plain": [
       "Loading checkpoint shards:   0%|          | 0/5 [00:00<?, ?it/s]"
      ]
     },
     "metadata": {},
     "output_type": "display_data"
    },
    {
     "name": "stderr",
     "output_type": "stream",
     "text": [
      "Some weights of the model checkpoint at Qwen/Qwen-VL-Chat-Int4 were not used when initializing QWenLMHeadModel: ['transformer.h.0.attn.c_proj.bias', 'transformer.h.0.mlp.c_proj.bias', 'transformer.h.0.mlp.w1.bias', 'transformer.h.0.mlp.w2.bias', 'transformer.h.1.attn.c_proj.bias', 'transformer.h.1.mlp.c_proj.bias', 'transformer.h.1.mlp.w1.bias', 'transformer.h.1.mlp.w2.bias', 'transformer.h.10.attn.c_proj.bias', 'transformer.h.10.mlp.c_proj.bias', 'transformer.h.10.mlp.w1.bias', 'transformer.h.10.mlp.w2.bias', 'transformer.h.11.attn.c_proj.bias', 'transformer.h.11.mlp.c_proj.bias', 'transformer.h.11.mlp.w1.bias', 'transformer.h.11.mlp.w2.bias', 'transformer.h.12.attn.c_proj.bias', 'transformer.h.12.mlp.c_proj.bias', 'transformer.h.12.mlp.w1.bias', 'transformer.h.12.mlp.w2.bias', 'transformer.h.13.attn.c_proj.bias', 'transformer.h.13.mlp.c_proj.bias', 'transformer.h.13.mlp.w1.bias', 'transformer.h.13.mlp.w2.bias', 'transformer.h.14.attn.c_proj.bias', 'transformer.h.14.mlp.c_proj.bias', 'transformer.h.14.mlp.w1.bias', 'transformer.h.14.mlp.w2.bias', 'transformer.h.15.attn.c_proj.bias', 'transformer.h.15.mlp.c_proj.bias', 'transformer.h.15.mlp.w1.bias', 'transformer.h.15.mlp.w2.bias', 'transformer.h.16.attn.c_proj.bias', 'transformer.h.16.mlp.c_proj.bias', 'transformer.h.16.mlp.w1.bias', 'transformer.h.16.mlp.w2.bias', 'transformer.h.17.attn.c_proj.bias', 'transformer.h.17.mlp.c_proj.bias', 'transformer.h.17.mlp.w1.bias', 'transformer.h.17.mlp.w2.bias', 'transformer.h.18.attn.c_proj.bias', 'transformer.h.18.mlp.c_proj.bias', 'transformer.h.18.mlp.w1.bias', 'transformer.h.18.mlp.w2.bias', 'transformer.h.19.attn.c_proj.bias', 'transformer.h.19.mlp.c_proj.bias', 'transformer.h.19.mlp.w1.bias', 'transformer.h.19.mlp.w2.bias', 'transformer.h.2.attn.c_proj.bias', 'transformer.h.2.mlp.c_proj.bias', 'transformer.h.2.mlp.w1.bias', 'transformer.h.2.mlp.w2.bias', 'transformer.h.20.attn.c_proj.bias', 'transformer.h.20.mlp.c_proj.bias', 'transformer.h.20.mlp.w1.bias', 'transformer.h.20.mlp.w2.bias', 'transformer.h.21.attn.c_proj.bias', 'transformer.h.21.mlp.c_proj.bias', 'transformer.h.21.mlp.w1.bias', 'transformer.h.21.mlp.w2.bias', 'transformer.h.22.attn.c_proj.bias', 'transformer.h.22.mlp.c_proj.bias', 'transformer.h.22.mlp.w1.bias', 'transformer.h.22.mlp.w2.bias', 'transformer.h.23.attn.c_proj.bias', 'transformer.h.23.mlp.c_proj.bias', 'transformer.h.23.mlp.w1.bias', 'transformer.h.23.mlp.w2.bias', 'transformer.h.24.attn.c_proj.bias', 'transformer.h.24.mlp.c_proj.bias', 'transformer.h.24.mlp.w1.bias', 'transformer.h.24.mlp.w2.bias', 'transformer.h.25.attn.c_proj.bias', 'transformer.h.25.mlp.c_proj.bias', 'transformer.h.25.mlp.w1.bias', 'transformer.h.25.mlp.w2.bias', 'transformer.h.26.attn.c_proj.bias', 'transformer.h.26.mlp.c_proj.bias', 'transformer.h.26.mlp.w1.bias', 'transformer.h.26.mlp.w2.bias', 'transformer.h.27.attn.c_proj.bias', 'transformer.h.27.mlp.c_proj.bias', 'transformer.h.27.mlp.w1.bias', 'transformer.h.27.mlp.w2.bias', 'transformer.h.28.attn.c_proj.bias', 'transformer.h.28.mlp.c_proj.bias', 'transformer.h.28.mlp.w1.bias', 'transformer.h.28.mlp.w2.bias', 'transformer.h.29.attn.c_proj.bias', 'transformer.h.29.mlp.c_proj.bias', 'transformer.h.29.mlp.w1.bias', 'transformer.h.29.mlp.w2.bias', 'transformer.h.3.attn.c_proj.bias', 'transformer.h.3.mlp.c_proj.bias', 'transformer.h.3.mlp.w1.bias', 'transformer.h.3.mlp.w2.bias', 'transformer.h.30.attn.c_proj.bias', 'transformer.h.30.mlp.c_proj.bias', 'transformer.h.30.mlp.w1.bias', 'transformer.h.30.mlp.w2.bias', 'transformer.h.31.attn.c_proj.bias', 'transformer.h.31.mlp.c_proj.bias', 'transformer.h.31.mlp.w1.bias', 'transformer.h.31.mlp.w2.bias', 'transformer.h.4.attn.c_proj.bias', 'transformer.h.4.mlp.c_proj.bias', 'transformer.h.4.mlp.w1.bias', 'transformer.h.4.mlp.w2.bias', 'transformer.h.5.attn.c_proj.bias', 'transformer.h.5.mlp.c_proj.bias', 'transformer.h.5.mlp.w1.bias', 'transformer.h.5.mlp.w2.bias', 'transformer.h.6.attn.c_proj.bias', 'transformer.h.6.mlp.c_proj.bias', 'transformer.h.6.mlp.w1.bias', 'transformer.h.6.mlp.w2.bias', 'transformer.h.7.attn.c_proj.bias', 'transformer.h.7.mlp.c_proj.bias', 'transformer.h.7.mlp.w1.bias', 'transformer.h.7.mlp.w2.bias', 'transformer.h.8.attn.c_proj.bias', 'transformer.h.8.mlp.c_proj.bias', 'transformer.h.8.mlp.w1.bias', 'transformer.h.8.mlp.w2.bias', 'transformer.h.9.attn.c_proj.bias', 'transformer.h.9.mlp.c_proj.bias', 'transformer.h.9.mlp.w1.bias', 'transformer.h.9.mlp.w2.bias']\n",
      "- This IS expected if you are initializing QWenLMHeadModel from the checkpoint of a model trained on another task or with another architecture (e.g. initializing a BertForSequenceClassification model from a BertForPreTraining model).\n",
      "- This IS NOT expected if you are initializing QWenLMHeadModel from the checkpoint of a model that you expect to be exactly identical (initializing a BertForSequenceClassification model from a BertForSequenceClassification model).\n"
     ]
    },
    {
     "name": "stdout",
     "output_type": "stream",
     "text": [
      "Ошибка: [Errno 2] No such file or directory: 'niki28sh2009'\n"
     ]
    }
   ],
   "source": [
    "def main():\n",
    "    tokenizer, model = load_model()\n",
    "    image_path = input().strip()\n",
    "    \n",
    "    try:\n",
    "        img = Image.open(image_path)\n",
    "        if img.mode != \"RGB\":\n",
    "            img = img.convert(\"RGB\")\n",
    "        \n",
    "        query = tokenizer.from_list_format([\n",
    "            {'image': image_path},\n",
    "            {'text': \"Describe what you see in the photo. Speak like with a person from 8 to 14 years old. Speak only English. In the math tasks, x - its not multiplication, it is a mathematical variable. So, if u see like 6x + 5 = 23, its not 6 times 5 = 23, its 6x = 23-5, its 6x = 18, x = 3\"},\n",
    "        ])\n",
    "        \n",
    "        with torch.no_grad():\n",
    "            response, _ = model.chat(tokenizer, query=query, history=None)\n",
    "        \n",
    "        print(\"----------\")\n",
    "        print(response)\n",
    "        \n",
    "    except Exception as e:\n",
    "        print(f\"Ошибка: {str(e)}\")\n",
    "\n",
    "if __name__ == \"__main__\":\n",
    "    main()"
   ]
  },
  {
   "cell_type": "code",
   "execution_count": null,
   "id": "c1803bac",
   "metadata": {},
   "outputs": [],
   "source": []
  }
 ],
 "metadata": {
  "kernelspec": {
   "display_name": "base",
   "language": "python",
   "name": "python3"
  },
  "language_info": {
   "codemirror_mode": {
    "name": "ipython",
    "version": 3
   },
   "file_extension": ".py",
   "mimetype": "text/x-python",
   "name": "python",
   "nbconvert_exporter": "python",
   "pygments_lexer": "ipython3",
   "version": "3.11.10"
  }
 },
 "nbformat": 4,
 "nbformat_minor": 5
}
